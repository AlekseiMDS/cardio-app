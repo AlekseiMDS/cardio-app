{
 "cells": [
  {
   "cell_type": "code",
   "execution_count": null,
   "id": "e2abe61c-e815-416b-a794-a02611feee44",
   "metadata": {},
   "outputs": [],
   "source": [
    "import pandas as pd\n",
    "import numpy as np\n",
    "from sklearn.preprocessing import StandardScaler, OneHotEncoder\n",
    "from sklearn.compose import ColumnTransformer\n",
    "from sklearn.pipeline import Pipeline\n",
    "from sklearn.model_selection import train_test_split\n",
    "import joblib\n",
    "\n",
    "RAND = 123\n",
    "K = 5"
   ]
  },
  {
   "cell_type": "code",
   "execution_count": null,
   "id": "5ea4698d-3e10-41c3-9b89-beab8c839377",
   "metadata": {},
   "outputs": [],
   "source": [
    "df = pd.read_csv(r\"D:\\DataScience\\Projects\\Cardio\\data\\data_cleaned\\data_cleaned.csv\")"
   ]
  },
  {
   "cell_type": "markdown",
   "id": "4003b291-58bc-4811-8a88-79ee4f89571d",
   "metadata": {},
   "source": [
    "## 03 Processing_data"
   ]
  },
  {
   "cell_type": "code",
   "execution_count": null,
   "id": "2d1a1de0-1526-4832-ba89-192b47378a42",
   "metadata": {},
   "outputs": [],
   "source": [
    "# Выделение данных для финальной провекри после этапа MLOps\n",
    "df_final_check = df.sample(n=20, random_state=123)\n",
    "final_check_index = df_final_check.index\n",
    "df = df.drop(index=final_check_index)\n",
    "X_final_check = df_final_check.drop('cardio',axis=1)\n",
    "y_final_check = df_final_check.cardio\n",
    "\n",
    "X = df.drop('cardio', axis=1)\n",
    "y = df.cardio\n",
    "print(f\"X: {X.shape}\")\n",
    "\n",
    "# Разбиваем на train, valid, test (без утечки)\n",
    "X_train, X_valid_test, y_train, y_valid_test = train_test_split(X, y, test_size=0.3, stratify=y, random_state=123)\n",
    "X_valid, X_test, y_valid, y_test = train_test_split(X_valid_test, y_valid_test, test_size=0.5, stratify=y_valid_test, random_state=123)\n",
    "print(f\"X_train: {X_train.shape}\")\n",
    "\n",
    "# Определяем типы данных\n",
    "num_features = ['age', 'height', 'weight', 'ap_hi', 'ap_lo', 'bmi']  # Числовые признаки для масштабирования\n",
    "bin_features = ['gender', 'smoke', 'alco', 'active']  # Бинарные признаки (их не кодируем)\n",
    "cat_features = ['cholesterol', 'gluc']  # Категориальные (небинарные) → их кодируем OneHot\n",
    "\n",
    "# Преобразователь для небинарных категориальных признаков\n",
    "categorical_transformer = OneHotEncoder(handle_unknown='ignore', sparse_output=False)\n",
    "\n",
    "# Преобразователь для числовых признаков\n",
    "numeric_transformer = StandardScaler()\n",
    "\n",
    "# Объединение в ColumnTransformer\n",
    "preprocessor = ColumnTransformer(transformers=[('num', numeric_transformer, num_features),\n",
    "                                              ('cat', categorical_transformer, cat_features)],\n",
    "                                 remainder='passthrough')\n",
    "\n",
    "data_processing_pipeline = Pipeline(steps=[('preprocessor', preprocessor)])\n",
    "\n",
    "X_train_scale = data_processing_pipeline.fit_transform(X_train)\n",
    "X_valid_scale = data_processing_pipeline.transform(X_valid)\n",
    "X_test_scale = data_processing_pipeline.transform(X_test)\n",
    "print(f\"X_train_scale: {X_train_scale.shape}\")\n",
    "\n",
    "joblib.dump(data_processing_pipeline, r\"D:\\DataScience\\Projects\\Cardio\\pipeline\\preprocessing_pipeline.joblib\")\n",
    "\n",
    "# Получить имена признаков после OneHotEncoding\n",
    "cat_features_names = data_processing_pipeline.named_steps['preprocessor'] \\\n",
    "                                             .named_transformers_['cat'] \\\n",
    "                                             .get_feature_names_out(cat_features).tolist()\n",
    "\n",
    "# Собираем полный список признаков в правильном порядке\n",
    "full_features_names = num_features + cat_features_names + bin_features"
   ]
  }
 ],
 "metadata": {
  "kernelspec": {
   "display_name": "Python 3 (ipykernel)",
   "language": "python",
   "name": "python3"
  },
  "language_info": {
   "codemirror_mode": {
    "name": "ipython",
    "version": 3
   },
   "file_extension": ".py",
   "mimetype": "text/x-python",
   "name": "python",
   "nbconvert_exporter": "python",
   "pygments_lexer": "ipython3",
   "version": "3.12.7"
  }
 },
 "nbformat": 4,
 "nbformat_minor": 5
}
